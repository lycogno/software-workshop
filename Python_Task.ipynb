{
  "cells": [
    {
      "cell_type": "markdown",
      "metadata": {
        "id": "view-in-github",
        "colab_type": "text"
      },
      "source": [
        "<a href=\"https://colab.research.google.com/github/rishi-301/software-workshop/blob/main/Python_Task.ipynb\" target=\"_parent\"><img src=\"https://colab.research.google.com/assets/colab-badge.svg\" alt=\"Open In Colab\"/></a>"
      ]
    },
    {
      "cell_type": "markdown",
      "metadata": {
        "id": "nx8u9MLl3-U2"
      },
      "source": [
        "Upload a picture of yourself, convert it to grayscale. Convert the grayscale image to a numpy array. This numpy array corresponds to the marks of students of your class\n",
        "\n",
        "Write a class which takes the numpy array generated above as an input. The class must have the following variables:\n",
        "1. **number_of_students** (int)\n",
        "2. **name_of_teacher** (Your name) (str)\n",
        "3. **data** - stores the input numpy array (1-d numpy array)\n",
        "4. **stats** - A dictionary of statistics that you will be calculating from the input. (dictionary)\n",
        "5. **summary** - (list)\n",
        "\n",
        "The class must have the following functions:\n",
        "1. **__init__** - It normalises the input array and scales it to 100, and stores it in the variable 'data'. It also sets the variable 'name_of_teacher'. The init function calls the functions 'set_num_students' , 'statistics_calculator'. Therefore after __init__all variables other than 'summary' are set.\n",
        "\n",
        "2. **set_num_students** - sets the variable 'number_of_students' \n",
        "\n",
        "3. **statistics_calculator** - calculates the mean, median, maximum, minimum, standard deviation of the marks and stores it in the form of a dictionary in the variable 'stats'\n",
        "\n",
        "4. **organiser** - organises the data in a list in the form [name_of_teacher , number_of_students , stats], stores it in the variable 'summary' and prints it when called.\n",
        "\n"
      ]
    },
    {
      "cell_type": "code",
      "source": [
        "\n"
      ],
      "metadata": {
        "id": "6qjUEx_KUKel"
      },
      "execution_count": null,
      "outputs": []
    },
    {
      "cell_type": "code",
      "source": [],
      "metadata": {
        "id": "MRTM_TiyUtCQ"
      },
      "execution_count": null,
      "outputs": []
    },
    {
      "cell_type": "code",
      "source": [
        "\n",
        "\n",
        "  \n",
        "  \n",
        "    "
      ],
      "metadata": {
        "id": "WqLoBzo9arxz"
      },
      "execution_count": null,
      "outputs": []
    }
  ],
  "metadata": {
    "colab": {
      "provenance": [],
      "include_colab_link": true
    },
    "kernelspec": {
      "display_name": "Python 3",
      "name": "python3"
    },
    "language_info": {
      "name": "python"
    }
  },
  "nbformat": 4,
  "nbformat_minor": 0
}